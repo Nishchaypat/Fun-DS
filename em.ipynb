{
 "cells": [
  {
   "cell_type": "code",
   "execution_count": 1,
   "metadata": {},
   "outputs": [
    {
     "name": "stdout",
     "output_type": "stream",
     "text": [
      "Initial Parameters: μ1=6, μ2=10, σ=1, π=0.5\n",
      "\n",
      "Iteration 1:\n",
      "Updated μ1: 6.872835150297813\n",
      "Updated μ2: 12.872465821260691\n",
      "Updated π: 0.20884049201975338\n",
      "\n",
      "Iteration 2:\n",
      "Updated μ1: 7.74553645372928\n",
      "Updated μ2: 14.19413039800116\n",
      "Updated π: 0.39925453831499796\n"
     ]
    }
   ],
   "source": [
    "import numpy as np\n",
    "from scipy.stats import norm\n",
    "\n",
    "# Given data\n",
    "data = np.array([6.6123, 18.6543, 11.351, 8.7254, 6.9369, 8.7147, 14.0346, 13.7268, 11.6965, 15.7425])\n",
    "\n",
    "# Initial hypothesis\n",
    "mu1, mu2 = 6, 10  # Initial means\n",
    "sigma = 1  # Fixed variance\n",
    "pi = 0.5  # Initial mixture weights (equal probability)\n",
    "\n",
    "# EM Algorithm\n",
    "def em_algorithm(data, mu1, mu2, sigma, pi, iterations):\n",
    "    n = len(data)\n",
    "    \n",
    "    print(f\"Initial Parameters: μ1={mu1}, μ2={mu2}, σ={sigma}, π={pi}\")\n",
    "    \n",
    "    # Store results for each iteration\n",
    "    results = []\n",
    "    \n",
    "    for iter in range(iterations):\n",
    "        # E-step: Compute responsibilities (posterior probabilities)\n",
    "        resp1 = pi * norm.pdf(data, mu1, sigma)\n",
    "        resp2 = (1-pi) * norm.pdf(data, mu2, sigma)\n",
    "        \n",
    "        gamma1 = resp1 / (resp1 + resp2)\n",
    "        gamma2 = 1 - gamma1\n",
    "        \n",
    "        # M-step: Update parameters\n",
    "        mu1_new = np.sum(gamma1 * data) / np.sum(gamma1)\n",
    "        mu2_new = np.sum(gamma2 * data) / np.sum(gamma2)\n",
    "        \n",
    "        pi_new = np.mean(gamma1)\n",
    "        \n",
    "        # Store iteration results\n",
    "        results.append({\n",
    "            'iteration': iter+1,\n",
    "            'mu1': mu1_new,\n",
    "            'mu2': mu2_new,\n",
    "            'pi': pi_new\n",
    "        })\n",
    "        \n",
    "        # Update for next iteration\n",
    "        mu1, mu2, pi = mu1_new, mu2_new, pi_new\n",
    "        \n",
    "        print(f\"\\nIteration {iter+1}:\")\n",
    "        print(f\"Updated μ1: {mu1_new}\")\n",
    "        print(f\"Updated μ2: {mu2_new}\")\n",
    "        print(f\"Updated π: {pi_new}\")\n",
    "    \n",
    "    return results\n",
    "\n",
    "# Run EM Algorithm\n",
    "results = em_algorithm(data, mu1, mu2, sigma, pi, iterations=2)"
   ]
  },
  {
   "cell_type": "code",
   "execution_count": null,
   "metadata": {},
   "outputs": [],
   "source": []
  }
 ],
 "metadata": {
  "kernelspec": {
   "display_name": "TensorFlow_ENV",
   "language": "python",
   "name": "python3"
  },
  "language_info": {
   "codemirror_mode": {
    "name": "ipython",
    "version": 3
   },
   "file_extension": ".py",
   "mimetype": "text/x-python",
   "name": "python",
   "nbconvert_exporter": "python",
   "pygments_lexer": "ipython3",
   "version": "3.10.14"
  }
 },
 "nbformat": 4,
 "nbformat_minor": 2
}
